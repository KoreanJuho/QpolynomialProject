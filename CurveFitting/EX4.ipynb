{
 "cells": [
  {
   "cell_type": "code",
   "execution_count": 2,
   "metadata": {},
   "outputs": [],
   "source": [
    "import numpy as np\n",
    "from scipy.optimize import approx_fprime\n",
    "from math import exp, log"
   ]
  },
  {
   "cell_type": "code",
   "execution_count": 3,
   "metadata": {},
   "outputs": [],
   "source": [
    "def func(x):\n",
    "    return np.array([x[0]*exp(1)-exp(x[1]), x[0]**2 - log(x[1])-1])"
   ]
  },
  {
   "cell_type": "code",
   "execution_count": 4,
   "metadata": {},
   "outputs": [],
   "source": [
    "def jacobian(func, x, eps=1e-8):\n",
    "    m = len(func(x))\n",
    "    n = len(x)\n",
    "    jacobian_matrix = np.zeros((m, n))\n",
    "    for i in range(n):\n",
    "        def func_i(x):\n",
    "            return func(x)[i]\n",
    "        jacobian_matrix[i] = approx_fprime(x, func_i, eps)\n",
    "    return jacobian_matrix"
   ]
  },
  {
   "attachments": {},
   "cell_type": "markdown",
   "metadata": {},
   "source": [
    "가우스 뉴턴법"
   ]
  },
  {
   "cell_type": "code",
   "execution_count": 92,
   "metadata": {},
   "outputs": [
    {
     "name": "stdout",
     "output_type": "stream",
     "text": [
      "[2.9285894  9.29027043]\n",
      "[1.99721037 8.29077164]\n",
      "[1.74831859 7.29196365]\n",
      "[1.68924656 6.29509065]\n",
      "[1.63853396 5.3033098 ]\n",
      "[1.57719804 4.3246394 ]\n",
      "[1.50048845 3.37863522]\n",
      "[1.4033612 2.5086945]\n",
      "[1.28398298 1.79270969]\n",
      "[1.15505839 1.31550839]\n",
      "[1.05273289 1.08339066]\n",
      "[1.00718502 1.00999249]\n",
      "[1.00014521 1.00019352]\n",
      "[1.00000006 1.00000008]\n",
      "[1. 1.]\n",
      "[1. 1.]\n",
      "[1. 1.]\n",
      "[1. 1.]\n",
      "[1. 1.]\n",
      "[1. 1.]\n",
      "[1. 1.]\n"
     ]
    }
   ],
   "source": [
    "x = np.array([5.24, 10.29])\n",
    "for a in range(21):\n",
    "    J = jacobian(func, x)\n",
    "    x = x - np.linalg.pinv(J.T @ J) @ (J.T @ func(x))\n",
    "    print(x)"
   ]
  },
  {
   "attachments": {},
   "cell_type": "markdown",
   "metadata": {},
   "source": [
    "경사하강법"
   ]
  },
  {
   "cell_type": "code",
   "execution_count": 83,
   "metadata": {},
   "outputs": [
    {
     "name": "stdout",
     "output_type": "stream",
     "text": [
      "[0.88641396 1.0655237 ]\n",
      "[0.99829181 0.99801098]\n",
      "[0.99996452 0.99995843]\n",
      "[0.99999927 0.99999914]\n",
      "[0.99999998 0.99999998]\n",
      "[1. 1.]\n",
      "[1. 1.]\n",
      "[1. 1.]\n",
      "[1. 1.]\n",
      "[1. 1.]\n",
      "[1. 1.]\n"
     ]
    }
   ],
   "source": [
    "step_size = 0.1\n",
    "x = np.array([1.1, 0.9])\n",
    "for a in range(1001):\n",
    "    J = jacobian(func, x)\n",
    "    x = x - step_size * J.T @ func(x)\n",
    "    if a % 100 == 0:\n",
    "        print(x)"
   ]
  },
  {
   "attachments": {},
   "cell_type": "markdown",
   "metadata": {},
   "source": [
    "Levenberg 방법"
   ]
  },
  {
   "cell_type": "code",
   "execution_count": 67,
   "metadata": {},
   "outputs": [
    {
     "name": "stdout",
     "output_type": "stream",
     "text": [
      "[2.92861044 9.29027044]\n",
      "[1.05285088 1.08351527]\n",
      "[1. 1.]\n",
      "[1. 1.]\n",
      "[1. 1.]\n",
      "[1. 1.]\n",
      "[1. 1.]\n",
      "[1. 1.]\n",
      "[1. 1.]\n",
      "[1. 1.]\n",
      "[1. 1.]\n"
     ]
    }
   ],
   "source": [
    "step_size = 0.001\n",
    "I = np.eye(len(x))\n",
    "x = np.array([5.24, 10.29])\n",
    "for a in range(101):\n",
    "    J = jacobian(func, x)\n",
    "    x = x -  np.linalg.pinv(J.T @ J + step_size *I) @ (J.T @ func(x))\n",
    "    if a % 10 == 0:\n",
    "        print(x)"
   ]
  },
  {
   "attachments": {},
   "cell_type": "markdown",
   "metadata": {},
   "source": [
    "Levemberg-Marqudt 방법"
   ]
  },
  {
   "cell_type": "code",
   "execution_count": 95,
   "metadata": {},
   "outputs": [
    {
     "name": "stdout",
     "output_type": "stream",
     "text": [
      "[4560.7633257     9.71174031]\n",
      "[2282.64606087    9.78287168]\n",
      "[1142.47692155    9.03443213]\n",
      "[571.82116419   8.2628916 ]\n",
      "[286.20734024   7.48916926]\n",
      "[143.25953834   6.72230891]\n",
      "[71.71774284  5.96625166]\n",
      "[35.91900862  5.22217284]\n",
      "[18.01761978  4.48986754]\n",
      "[9.08758162 3.76928661]\n",
      "[4.67058974 3.06368672]\n",
      "[2.54522475 2.38805085]\n",
      "[1.59570783 1.78723705]\n",
      "[1.2187153  1.34268494]\n",
      "[1.06913557 1.10226615]\n",
      "[1.01251088 1.01673791]\n",
      "[1.0009714  1.00119373]\n",
      "[1.0000501  1.00005884]\n",
      "[1.00000244 1.00000285]\n",
      "[1.00000012 1.00000014]\n",
      "[1.00000001 1.00000001]\n",
      "[1. 1.]\n",
      "[1. 1.]\n",
      "[1. 1.]\n",
      "[1. 1.]\n",
      "[1. 1.]\n",
      "[1. 1.]\n",
      "[1. 1.]\n",
      "[1. 1.]\n",
      "[1. 1.]\n",
      "[1. 1.]\n",
      "[1. 1.]\n",
      "[1. 1.]\n",
      "[1. 1.]\n",
      "[1. 1.]\n",
      "[1. 1.]\n",
      "[1. 1.]\n",
      "[1. 1.]\n",
      "[1. 1.]\n",
      "[1. 1.]\n",
      "[1. 1.]\n",
      "[1. 1.]\n",
      "[1. 1.]\n",
      "[1. 1.]\n",
      "[1. 1.]\n",
      "[1. 1.]\n",
      "[1. 1.]\n",
      "[1. 1.]\n",
      "[1. 1.]\n",
      "[1. 1.]\n",
      "[1. 1.]\n",
      "[1. 1.]\n",
      "[1. 1.]\n",
      "[1. 1.]\n",
      "[1. 1.]\n",
      "[1. 1.]\n",
      "[1. 1.]\n",
      "[1. 1.]\n",
      "[1. 1.]\n",
      "[1. 1.]\n",
      "[1. 1.]\n",
      "[1. 1.]\n",
      "[1. 1.]\n",
      "[1. 1.]\n",
      "[1. 1.]\n",
      "[1. 1.]\n",
      "[1. 1.]\n",
      "[1. 1.]\n",
      "[1. 1.]\n",
      "[1. 1.]\n",
      "[1. 1.]\n",
      "[1. 1.]\n",
      "[1. 1.]\n",
      "[1. 1.]\n",
      "[1. 1.]\n",
      "[1. 1.]\n",
      "[1. 1.]\n",
      "[1. 1.]\n",
      "[1. 1.]\n",
      "[1. 1.]\n",
      "[1. 1.]\n",
      "[1. 1.]\n",
      "[1. 1.]\n",
      "[1. 1.]\n",
      "[1. 1.]\n",
      "[1. 1.]\n",
      "[1. 1.]\n",
      "[1. 1.]\n",
      "[1. 1.]\n",
      "[1. 1.]\n",
      "[1. 1.]\n",
      "[1. 1.]\n",
      "[1. 1.]\n",
      "[1. 1.]\n",
      "[1. 1.]\n",
      "[1. 1.]\n",
      "[1. 1.]\n",
      "[1. 1.]\n",
      "[1. 1.]\n",
      "[1. 1.]\n",
      "[1. 1.]\n"
     ]
    }
   ],
   "source": [
    "step_size = 0.001\n",
    "x = np.array([5.24, 10.29])\n",
    "for a in range(101):\n",
    "    J = jacobian(func, x)\n",
    "    x = x -  np.linalg.pinv(J.T @ J + step_size * np.diag(J.T @ J)) @ (J.T @ func(x))\n",
    "    # if a % 5 == 0:\n",
    "    print(x)"
   ]
  }
 ],
 "metadata": {
  "kernelspec": {
   "display_name": "Qbfs_Project",
   "language": "python",
   "name": "python3"
  },
  "language_info": {
   "codemirror_mode": {
    "name": "ipython",
    "version": 3
   },
   "file_extension": ".py",
   "mimetype": "text/x-python",
   "name": "python",
   "nbconvert_exporter": "python",
   "pygments_lexer": "ipython3",
   "version": "3.11.3"
  },
  "orig_nbformat": 4
 },
 "nbformat": 4,
 "nbformat_minor": 2
}
