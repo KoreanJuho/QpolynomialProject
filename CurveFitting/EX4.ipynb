{
 "cells": [
  {
   "cell_type": "code",
   "execution_count": 8,
   "metadata": {},
   "outputs": [],
   "source": [
    "import numpy as np\n",
    "from scipy.optimize import approx_fprime\n",
    "from math import exp, log"
   ]
  },
  {
   "cell_type": "code",
   "execution_count": 9,
   "metadata": {},
   "outputs": [],
   "source": [
    "def func(x):\n",
    "    return np.array([x[0]*exp(1)-exp(x[1]), x[0]**2 - log(x[1])-1])"
   ]
  },
  {
   "cell_type": "code",
   "execution_count": 4,
   "metadata": {},
   "outputs": [],
   "source": [
    "def jacobian(func, x, eps=1e-8):\n",
    "    m = len(func(x))\n",
    "    n = len(x)\n",
    "    jacobian_matrix = np.zeros((m, n))\n",
    "    for i in range(n):\n",
    "        def func_i(x):\n",
    "            return func(x)[i]\n",
    "        jacobian_matrix[i] = approx_fprime(x, func_i, eps)\n",
    "    return jacobian_matrix"
   ]
  },
  {
   "cell_type": "code",
   "execution_count": 5,
   "metadata": {},
   "outputs": [
    {
     "name": "stdout",
     "output_type": "stream",
     "text": [
      "[[2. 1.]\n",
      " [1. 2.]]\n"
     ]
    }
   ],
   "source": [
    "x = np.array([1, 1])\n",
    "print(jacobian(func, x))"
   ]
  },
  {
   "cell_type": "code",
   "execution_count": null,
   "metadata": {},
   "outputs": [],
   "source": []
  }
 ],
 "metadata": {
  "kernelspec": {
   "display_name": "Qbfs_Project",
   "language": "python",
   "name": "python3"
  },
  "language_info": {
   "codemirror_mode": {
    "name": "ipython",
    "version": 3
   },
   "file_extension": ".py",
   "mimetype": "text/x-python",
   "name": "python",
   "nbconvert_exporter": "python",
   "pygments_lexer": "ipython3",
   "version": "3.11.3"
  },
  "orig_nbformat": 4
 },
 "nbformat": 4,
 "nbformat_minor": 2
}
