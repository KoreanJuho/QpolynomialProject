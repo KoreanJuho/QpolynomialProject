{
 "cells": [
  {
   "cell_type": "code",
   "execution_count": 2,
   "metadata": {},
   "outputs": [],
   "source": [
    "import numpy as np\n",
    "from scipy.optimize import approx_fprime\n",
    "from math import exp, log"
   ]
  },
  {
   "cell_type": "code",
   "execution_count": 3,
   "metadata": {},
   "outputs": [],
   "source": [
    "def func(x):\n",
    "    return np.array([x[0]*exp(1)-exp(x[1]), x[0]**2 - log(x[1])-1])"
   ]
  },
  {
   "cell_type": "code",
   "execution_count": 4,
   "metadata": {},
   "outputs": [],
   "source": [
    "def jacobian(func, x, eps=1e-8):\n",
    "    m = len(func(x))\n",
    "    n = len(x)\n",
    "    jacobian_matrix = np.zeros((m, n))\n",
    "    for i in range(n):\n",
    "        def func_i(x):\n",
    "            return func(x)[i]\n",
    "        jacobian_matrix[i] = approx_fprime(x, func_i, eps)\n",
    "    return jacobian_matrix"
   ]
  },
  {
   "attachments": {},
   "cell_type": "markdown",
   "metadata": {},
   "source": [
    "가우스 뉴턴법"
   ]
  },
  {
   "cell_type": "code",
   "execution_count": 71,
   "metadata": {},
   "outputs": [
    {
     "name": "stdout",
     "output_type": "stream",
     "text": [
      "[2.9285894  9.29027043]\n",
      "[1.99721037 8.29077164]\n",
      "[1.74831859 7.29196365]\n",
      "[1.68924656 6.29509065]\n",
      "[1.63853396 5.3033098 ]\n",
      "[1.57719804 4.3246394 ]\n",
      "[1.50048845 3.37863522]\n",
      "[1.4033612 2.5086945]\n",
      "[1.28398298 1.79270969]\n",
      "[1.15505839 1.31550839]\n",
      "[1.05273289 1.08339066]\n",
      "[1.00718502 1.00999249]\n",
      "[1.00014521 1.00019352]\n",
      "[1.00000006 1.00000008]\n",
      "[1. 1.]\n",
      "[1. 1.]\n",
      "[1. 1.]\n",
      "[1. 1.]\n",
      "[1. 1.]\n",
      "[1. 1.]\n",
      "[1. 1.]\n"
     ]
    }
   ],
   "source": [
    "x = np.array([5.24, 10.29])\n",
    "for a in range(21):\n",
    "    J = jacobian(func, x)\n",
    "    x = x - np.linalg.pinv(J.T @ J) @ (J.T @ func(x))\n",
    "    print(x)"
   ]
  },
  {
   "attachments": {},
   "cell_type": "markdown",
   "metadata": {},
   "source": [
    "경사하강법"
   ]
  },
  {
   "cell_type": "code",
   "execution_count": 80,
   "metadata": {},
   "outputs": [
    {
     "name": "stdout",
     "output_type": "stream",
     "text": [
      "[  5.4340325 -25.0728499]\n",
      "[ 5.01147535 35.45107134]\n",
      "[ 4.80553647e+00 -6.20025164e+27]\n",
      "[ 4.49401898 29.0138649 ]\n",
      "[ 4.35175243e+00 -1.58899617e+22]\n",
      "[ 4.10607512 24.85721934]\n",
      "[ 4.00221848e+00 -3.89678458e+18]\n",
      "[ 3.79986552 21.93628643]\n",
      "[ 3.72120195e+00 -1.13140033e+16]\n",
      "[ 3.54940136 19.76512384]\n",
      "[ 3.48824992e+00 -1.47152765e+14]\n",
      "[ 3.33909133 18.08504192]\n",
      "[ 2.13054482e+05 -5.11055148e+12]\n",
      "[-1.93709470e+13  3.46315103e+10]\n"
     ]
    },
    {
     "ename": "OverflowError",
     "evalue": "math range error",
     "output_type": "error",
     "traceback": [
      "\u001b[1;31m---------------------------------------------------------------------------\u001b[0m",
      "\u001b[1;31mOverflowError\u001b[0m                             Traceback (most recent call last)",
      "Cell \u001b[1;32mIn[80], line 8\u001b[0m\n\u001b[0;32m      6\u001b[0m \u001b[39mif\u001b[39;00m x[\u001b[39m1\u001b[39m] \u001b[39m<\u001b[39m\u001b[39m=\u001b[39m \u001b[39m0\u001b[39m:\n\u001b[0;32m      7\u001b[0m     x[\u001b[39m1\u001b[39m] \u001b[39m=\u001b[39m \u001b[39m0.001\u001b[39m\n\u001b[1;32m----> 8\u001b[0m J \u001b[39m=\u001b[39m jacobian(func, x)\n\u001b[0;32m      9\u001b[0m x \u001b[39m=\u001b[39m x \u001b[39m-\u001b[39m step_size \u001b[39m*\u001b[39m J\u001b[39m.\u001b[39mT \u001b[39m@\u001b[39m func(x)\n\u001b[0;32m     10\u001b[0m \u001b[39m# if a % 100 == 0:\u001b[39;00m\n\u001b[0;32m     11\u001b[0m \u001b[39m#     print(x)\u001b[39;00m\n",
      "Cell \u001b[1;32mIn[4], line 2\u001b[0m, in \u001b[0;36mjacobian\u001b[1;34m(func, x, eps)\u001b[0m\n\u001b[0;32m      1\u001b[0m \u001b[39mdef\u001b[39;00m \u001b[39mjacobian\u001b[39m(func, x, eps\u001b[39m=\u001b[39m\u001b[39m1e-8\u001b[39m):\n\u001b[1;32m----> 2\u001b[0m     m \u001b[39m=\u001b[39m \u001b[39mlen\u001b[39m(func(x))\n\u001b[0;32m      3\u001b[0m     n \u001b[39m=\u001b[39m \u001b[39mlen\u001b[39m(x)\n\u001b[0;32m      4\u001b[0m     jacobian_matrix \u001b[39m=\u001b[39m np\u001b[39m.\u001b[39mzeros((m, n))\n",
      "Cell \u001b[1;32mIn[3], line 2\u001b[0m, in \u001b[0;36mfunc\u001b[1;34m(x)\u001b[0m\n\u001b[0;32m      1\u001b[0m \u001b[39mdef\u001b[39;00m \u001b[39mfunc\u001b[39m(x):\n\u001b[1;32m----> 2\u001b[0m     \u001b[39mreturn\u001b[39;00m np\u001b[39m.\u001b[39marray([x[\u001b[39m0\u001b[39m]\u001b[39m*\u001b[39mexp(\u001b[39m1\u001b[39m)\u001b[39m-\u001b[39mexp(x[\u001b[39m1\u001b[39m]), x[\u001b[39m0\u001b[39m]\u001b[39m*\u001b[39m\u001b[39m*\u001b[39m\u001b[39m2\u001b[39m \u001b[39m-\u001b[39m log(x[\u001b[39m1\u001b[39m])\u001b[39m-\u001b[39m\u001b[39m1\u001b[39m])\n",
      "\u001b[1;31mOverflowError\u001b[0m: math range error"
     ]
    }
   ],
   "source": [
    "step_size = 0.001\n",
    "x = np.array([5.24, 5.2])\n",
    "for a in range(1001):\n",
    "    J = jacobian(func, x)\n",
    "    x = x - step_size * J.T @ func(x)\n",
    "    if a % 100 == 0:\n",
    "        print(x)"
   ]
  },
  {
   "attachments": {},
   "cell_type": "markdown",
   "metadata": {},
   "source": [
    "Levenberg 방법"
   ]
  },
  {
   "cell_type": "code",
   "execution_count": 67,
   "metadata": {},
   "outputs": [
    {
     "name": "stdout",
     "output_type": "stream",
     "text": [
      "[2.92861044 9.29027044]\n",
      "[1.05285088 1.08351527]\n",
      "[1. 1.]\n",
      "[1. 1.]\n",
      "[1. 1.]\n",
      "[1. 1.]\n",
      "[1. 1.]\n",
      "[1. 1.]\n",
      "[1. 1.]\n",
      "[1. 1.]\n",
      "[1. 1.]\n"
     ]
    }
   ],
   "source": [
    "step_size = 0.001\n",
    "I = np.eye(len(x))\n",
    "x = np.array([5.24, 10.29])\n",
    "for a in range(101):\n",
    "    J = jacobian(func, x)\n",
    "    x = x -  np.linalg.pinv(J.T @ J + step_size *I) @ (J.T @ func(x))\n",
    "    if a % 10 == 0:\n",
    "        print(x)"
   ]
  },
  {
   "attachments": {},
   "cell_type": "markdown",
   "metadata": {},
   "source": [
    "Levemberg-Marqudt 방법"
   ]
  },
  {
   "cell_type": "code",
   "execution_count": 75,
   "metadata": {},
   "outputs": [
    {
     "name": "stdout",
     "output_type": "stream",
     "text": [
      "[4560.7633257     9.71174031]\n",
      "[4.67058974 3.06368672]\n",
      "[1.00000001 1.00000001]\n",
      "[1. 1.]\n",
      "[1. 1.]\n",
      "[1. 1.]\n",
      "[1. 1.]\n",
      "[1. 1.]\n",
      "[1. 1.]\n",
      "[1. 1.]\n",
      "[1. 1.]\n"
     ]
    }
   ],
   "source": [
    "step_size = 0.001\n",
    "x = np.array([5.24, 10.29])\n",
    "for a in range(101):\n",
    "    J = jacobian(func, x)\n",
    "    x = x -  np.linalg.pinv(J.T @ J + step_size * np.diag(J.T @ J)) @ (J.T @ func(x))\n",
    "    if a % 10 == 0:\n",
    "        print(x)"
   ]
  }
 ],
 "metadata": {
  "kernelspec": {
   "display_name": "Qbfs_Project",
   "language": "python",
   "name": "python3"
  },
  "language_info": {
   "codemirror_mode": {
    "name": "ipython",
    "version": 3
   },
   "file_extension": ".py",
   "mimetype": "text/x-python",
   "name": "python",
   "nbconvert_exporter": "python",
   "pygments_lexer": "ipython3",
   "version": "3.11.3"
  },
  "orig_nbformat": 4
 },
 "nbformat": 4,
 "nbformat_minor": 2
}
