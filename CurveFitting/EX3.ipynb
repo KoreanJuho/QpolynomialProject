{
 "cells": [
  {
   "cell_type": "code",
   "execution_count": 1,
   "metadata": {},
   "outputs": [],
   "source": [
    "import numpy as np"
   ]
  },
  {
   "cell_type": "code",
   "execution_count": 1,
   "metadata": {},
   "outputs": [
    {
     "ename": "NameError",
     "evalue": "name 'np' is not defined",
     "output_type": "error",
     "traceback": [
      "\u001b[1;31m---------------------------------------------------------------------------\u001b[0m",
      "\u001b[1;31mNameError\u001b[0m                                 Traceback (most recent call last)",
      "Cell \u001b[1;32mIn[1], line 9\u001b[0m\n\u001b[0;32m      6\u001b[0m     F \u001b[39m=\u001b[39m np\u001b[39m.\u001b[39marray([np\u001b[39m.\u001b[39mexp(\u001b[39m1\u001b[39m)\u001b[39m*\u001b[39mx[\u001b[39m0\u001b[39m]\u001b[39m-\u001b[39mnp\u001b[39m.\u001b[39mexp(x[\u001b[39m1\u001b[39m]), x[\u001b[39m0\u001b[39m]\u001b[39m*\u001b[39m\u001b[39m*\u001b[39m\u001b[39m2\u001b[39m\u001b[39m-\u001b[39mnp\u001b[39m.\u001b[39mlog(x[\u001b[39m1\u001b[39m])\u001b[39m-\u001b[39m\u001b[39m1\u001b[39m])\n\u001b[0;32m      7\u001b[0m     \u001b[39mreturn\u001b[39;00m F\n\u001b[1;32m----> 9\u001b[0m x \u001b[39m=\u001b[39m np\u001b[39m.\u001b[39marray([\u001b[39m1.2\u001b[39m, \u001b[39m0.9\u001b[39m])\n\u001b[0;32m     10\u001b[0m \u001b[39mfor\u001b[39;00m i \u001b[39min\u001b[39;00m \u001b[39mrange\u001b[39m(\u001b[39m10\u001b[39m):\n\u001b[0;32m     11\u001b[0m     A \u001b[39m=\u001b[39m cA(x)\n",
      "\u001b[1;31mNameError\u001b[0m: name 'np' is not defined"
     ]
    }
   ],
   "source": [
    "def cA(x):\n",
    "    A = np.array([[np.exp(1), -np.exp(x[1])],[2*x[0],-1/x[1]]])\n",
    "    return A\n",
    "\n",
    "def cF(x):\n",
    "    F = np.array([np.exp(1)*x[0]-np.exp(x[1]), x[0]**2-np.log(x[1])-1])\n",
    "    return F\n",
    "\n",
    "x = np.array([1.2, 0.9])\n",
    "for i in range(10):\n",
    "    A = cA(x)\n",
    "    F = cF(x)\n",
    "    x = x - np.dot(np.linalg.inv(np.dot(A.T,A)),np.dot(A.T,F))\n",
    "    print(x)"
   ]
  }
 ],
 "metadata": {
  "kernelspec": {
   "display_name": "Qbfs_Project",
   "language": "python",
   "name": "python3"
  },
  "language_info": {
   "codemirror_mode": {
    "name": "ipython",
    "version": 3
   },
   "file_extension": ".py",
   "mimetype": "text/x-python",
   "name": "python",
   "nbconvert_exporter": "python",
   "pygments_lexer": "ipython3",
   "version": "3.11.3"
  },
  "orig_nbformat": 4
 },
 "nbformat": 4,
 "nbformat_minor": 2
}
