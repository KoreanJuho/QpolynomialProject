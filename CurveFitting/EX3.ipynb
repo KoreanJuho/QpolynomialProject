{
 "cells": [
  {
   "cell_type": "code",
   "execution_count": 4,
   "metadata": {},
   "outputs": [],
   "source": [
    "import numpy as np"
   ]
  },
  {
   "cell_type": "code",
   "execution_count": 6,
   "metadata": {},
   "outputs": [
    {
     "name": "stdout",
     "output_type": "stream",
     "text": [
      "[1.04393741 1.05372926]\n",
      "[1.00388893 1.00510341]\n",
      "[1.00004027 1.00005307]\n",
      "[1.         1.00000001]\n",
      "[1. 1.]\n",
      "[1. 1.]\n",
      "[1. 1.]\n",
      "[1. 1.]\n",
      "[1. 1.]\n",
      "[1. 1.]\n"
     ]
    }
   ],
   "source": [
    "def cA(x):\n",
    "    A = np.array([[np.exp(1), -np.exp(x[1])],[2*x[0],-1/x[1]]])\n",
    "    return A\n",
    "\n",
    "def cF(x):\n",
    "    F = np.array([np.exp(1)*x[0]-np.exp(x[1]), x[0]**2-np.log(x[1])-1])\n",
    "    return F\n",
    "\n",
    "x = np.array([1.2, 0.9])\n",
    "for i in range(10):\n",
    "    A = cA(x)\n",
    "    F = cF(x)\n",
    "    x = x - np.dot(np.linalg.pinv(np.dot(A.T,A)),np.dot(A.T,F))\n",
    "    print(x)"
   ]
  }
 ],
 "metadata": {
  "kernelspec": {
   "display_name": "Qbfs_Project",
   "language": "python",
   "name": "python3"
  },
  "language_info": {
   "codemirror_mode": {
    "name": "ipython",
    "version": 3
   },
   "file_extension": ".py",
   "mimetype": "text/x-python",
   "name": "python",
   "nbconvert_exporter": "python",
   "pygments_lexer": "ipython3",
   "version": "3.11.3"
  },
  "orig_nbformat": 4
 },
 "nbformat": 4,
 "nbformat_minor": 2
}
